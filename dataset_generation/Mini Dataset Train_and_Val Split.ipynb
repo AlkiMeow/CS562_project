{
 "cells": [
  {
   "cell_type": "markdown",
   "id": "cb0b60dd",
   "metadata": {},
   "source": [
    "Libraries"
   ]
  },
  {
   "cell_type": "code",
   "execution_count": 1,
   "id": "8992a925",
   "metadata": {},
   "outputs": [],
   "source": [
    "import os\n",
    "import shutil"
   ]
  },
  {
   "cell_type": "markdown",
   "id": "d50f0cdd",
   "metadata": {},
   "source": [
    "Split the Mini Dataset into Train and Validate Subsets"
   ]
  },
  {
   "cell_type": "code",
   "execution_count": 2,
   "id": "dedd6e6f",
   "metadata": {},
   "outputs": [],
   "source": [
    "# Create Split Dataset Folder Structure if New\n",
    "if not os.path.exists(\"Mini_Dataset_Split\"):\n",
    "    os.makedirs(\"Mini_Dataset_Split\")\n",
    "    \n",
    "if not os.path.exists(os.path.join(\"Mini_Dataset_Split\",'train')):\n",
    "    os.makedirs(os.path.join(\"Mini_Dataset_Split\",'train'))    \n",
    "if not os.path.exists(os.path.join(\"Mini_Dataset_Split\",'train','images')):\n",
    "    os.makedirs(os.path.join(\"Mini_Dataset_Split\",'train','images'))\n",
    "if not os.path.exists(os.path.join(\"Mini_Dataset_Split\",'train','masks')):\n",
    "    os.makedirs(os.path.join(\"Mini_Dataset_Split\",'train','masks'))\n",
    "    \n",
    "if not os.path.exists(os.path.join(\"Mini_Dataset_Split\",'validate')):\n",
    "    os.makedirs(os.path.join(\"Mini_Dataset_Split\",'validate'))    \n",
    "if not os.path.exists(os.path.join(\"Mini_Dataset_Split\",'validate','images')):\n",
    "    os.makedirs(os.path.join(\"Mini_Dataset_Split\",'validate','images'))\n",
    "if not os.path.exists(os.path.join(\"Mini_Dataset_Split\",'validate','masks')):\n",
    "    os.makedirs(os.path.join(\"Mini_Dataset_Split\",'validate','masks'))"
   ]
  },
  {
   "cell_type": "code",
   "execution_count": 3,
   "id": "d96c289f",
   "metadata": {},
   "outputs": [],
   "source": [
    "# Get naming convention file format of samples\n",
    "samples = os.listdir(os.path.join(\"Mini_Dataset\",'images'))\n",
    "samples = [s[5:] for s in samples]\n",
    "train_samps = samples[0:400]\n",
    "val_samps = samples[400:]"
   ]
  },
  {
   "cell_type": "code",
   "execution_count": 4,
   "id": "f61e6a29",
   "metadata": {},
   "outputs": [],
   "source": [
    "# Perform Train Copy Over\n",
    "with open(os.path.join(\"Mini_Dataset_Split\",'train','train_samples.txt'), 'w') as fp:\n",
    "    for samp in train_samps:\n",
    "        orig_img = os.path.join(\"Mini_Dataset\",'images', 'image'+samp)\n",
    "        targ_img = os.path.join(\"Mini_Dataset_Split\",'train','images', 'image'+samp)\n",
    "        shutil.copyfile(orig_img, targ_img)\n",
    "\n",
    "        orig_msk = os.path.join(\"Mini_Dataset\",'masks', 'mask'+samp)\n",
    "        targ_msk = os.path.join(\"Mini_Dataset_Split\",'train','masks', 'mask'+samp)\n",
    "        shutil.copyfile(orig_msk, targ_msk)\n",
    "        \n",
    "        fp.write(\"%s\\n\" % samp)"
   ]
  },
  {
   "cell_type": "code",
   "execution_count": 5,
   "id": "59e192e8",
   "metadata": {},
   "outputs": [],
   "source": [
    "# Perform Validate Copy Over\n",
    "with open(os.path.join(\"Mini_Dataset_Split\",'validate','validate_samples.txt'), 'w') as fp:\n",
    "    for samp in val_samps:\n",
    "        orig_img = os.path.join(\"Mini_Dataset\",'images', 'image'+samp)\n",
    "        targ_img = os.path.join(\"Mini_Dataset_Split\",'validate','images', 'image'+samp)\n",
    "        shutil.copyfile(orig_img, targ_img)\n",
    "\n",
    "        orig_msk = os.path.join(\"Mini_Dataset\",'masks', 'mask'+samp)\n",
    "        targ_msk = os.path.join(\"Mini_Dataset_Split\",'validate','masks', 'mask'+samp)\n",
    "        shutil.copyfile(orig_msk, targ_msk)\n",
    "        \n",
    "        fp.write(\"%s\\n\" % samp)"
   ]
  }
 ],
 "metadata": {
  "kernelspec": {
   "display_name": "eman2",
   "language": "python",
   "name": "eman2"
  },
  "language_info": {
   "codemirror_mode": {
    "name": "ipython",
    "version": 3
   },
   "file_extension": ".py",
   "mimetype": "text/x-python",
   "name": "python",
   "nbconvert_exporter": "python",
   "pygments_lexer": "ipython3",
   "version": "3.9.13"
  }
 },
 "nbformat": 4,
 "nbformat_minor": 5
}
