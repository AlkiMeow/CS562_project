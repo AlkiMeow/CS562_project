{
 "cells": [
  {
   "cell_type": "markdown",
   "id": "4e2e782e",
   "metadata": {},
   "source": [
    "Libraries"
   ]
  },
  {
   "cell_type": "code",
   "execution_count": 1,
   "id": "c65087aa",
   "metadata": {},
   "outputs": [],
   "source": [
    "import os\n",
    "from PIL import Image\n",
    "import numpy as np\n",
    "import random\n",
    "import datetime\n",
    "import time"
   ]
  },
  {
   "cell_type": "markdown",
   "id": "cae5b895",
   "metadata": {},
   "source": [
    "Protein Classes"
   ]
  },
  {
   "cell_type": "code",
   "execution_count": 2,
   "id": "69839364",
   "metadata": {},
   "outputs": [],
   "source": [
    "# EMD-4214 = 40S Ribosome\n",
    "# EMD-2811 = 60S Ribosome\n",
    "# EMD-2858 = 80S Ribosome\n",
    "# EMD-2788 = Apoferritin\n",
    "\n",
    "# Class_EMD_Value: Mask_Pixel_Value\n",
    "class_masks = {'EMD-4214': 104, 'EMD-2811': 153, 'EMD-2858': 202, 'EMD-2788': 251}"
   ]
  },
  {
   "cell_type": "markdown",
   "id": "01500c99",
   "metadata": {},
   "source": [
    "Get Projection Image Files"
   ]
  },
  {
   "cell_type": "code",
   "execution_count": 4,
   "id": "3bf3919e",
   "metadata": {},
   "outputs": [],
   "source": [
    "# Get protein directory names\n",
    "directories = next(os.walk('.'))[1]\n",
    "directories.remove(\".ipynb_checkpoints\")\n",
    "directories.remove(\"Dataset\")\n",
    "directories.remove(\"raw_images\")\n",
    "directories.remove(\"Mini_Dataset\")\n",
    "\n",
    "projections = set()\n",
    "for d in directories:\n",
    "    files = os.listdir(os.path.join(d,'projections'))\n",
    "    files = [d + \"/projections/\" + os.path.splitext(x)[0] for x in files]\n",
    "    projections.update(files)\n",
    "    \n",
    "projections = list(projections)\n",
    "#print(len(projections)) == 400"
   ]
  },
  {
   "cell_type": "markdown",
   "id": "22f93ab9",
   "metadata": {},
   "source": [
    "Single Image Creation Helper Function"
   ]
  },
  {
   "cell_type": "code",
   "execution_count": 5,
   "id": "1e8438e5",
   "metadata": {},
   "outputs": [],
   "source": [
    "def createSingleImage(projections, class_masks):\n",
    "    image = np.full((4096, 4096), 16)\n",
    "    mask = np.zeros((4096, 4096))\n",
    "    \n",
    "    max_particles = np.random.randint(200,401)\n",
    "    #print(num_particles)\n",
    "    \n",
    "    num_particles = 0\n",
    "    giveup_thresh = 25\n",
    "    \n",
    "    while (num_particles < max_particles and giveup_thresh > -1):\n",
    "        flag = False\n",
    "        # Select random projection from all class projections (uniform distribution)\n",
    "        proj_file = random.choice(projections)\n",
    "        #print(proj_file)\n",
    "        proj_class = proj_file[-8:]\n",
    "        proj_mask_val = class_masks.get(proj_class)\n",
    "        \n",
    "        proj_img = Image.open(proj_file + \".jpg\")\n",
    "        #proj_img.show()\n",
    "        proj_mask = np.array(proj_img)\n",
    "        proj_mask[np.where(proj_mask >= 70)] = proj_mask_val\n",
    "        proj_mask[np.where(proj_mask < 70)] = 0\n",
    "        \n",
    "        slen = proj_mask.shape[0]\n",
    "        row = np.random.randint(0,image.shape[0]-slen)\n",
    "        column = np.random.randint(0,image.shape[1]-slen)\n",
    "        \n",
    "        # Check for overlap\n",
    "        examine = np.add(mask[row:row+slen, column:column+slen], proj_mask)\n",
    "        flag1 = np.isin(mask[row:row+slen, column:column+slen], [0, 104, 153, 202, 251])\n",
    "        flag2 = np.isin(examine, [0, 104, 153, 202, 251])\n",
    "        if (flag1.sum() != flag2.sum()): # Protein overlap\n",
    "            giveup_thresh = giveup_thresh - 1\n",
    "            #print(\"Collision Avoided!\")\n",
    "        else:\n",
    "            num_particles = num_particles + 1\n",
    "            giveup_thresh = 25\n",
    "            \n",
    "            mask[row:row+slen, column:column+slen] = np.add(mask[row:row+slen, column:column+slen], proj_mask)\n",
    "            add_proj = np.array(proj_img)\n",
    "            \n",
    "            # Null projection background\n",
    "            if proj_class == 'EMD-2858': # Edge Case, 80S Rib. has strange glow which is harder to eliminate\n",
    "                add_proj[np.where(add_proj <= 65)] = 0\n",
    "            else:\n",
    "                background_pix_val = add_proj[0,0]\n",
    "                add_proj[np.where(add_proj == background_pix_val)] = 0\n",
    "                \n",
    "            image[row:row+slen, column:column+slen] = np.add(image[row:row+slen, column:column+slen], add_proj)\n",
    "            #img = Image.fromarray(image)\n",
    "            #img.show()\n",
    "            \n",
    "        \n",
    "    #print(\"The number of particles in the image: \" + str(num_particles))\n",
    "    output_image = np.uint8(np.abs(image - 255))\n",
    "    img = Image.fromarray(np.uint8(output_image), mode='L')\n",
    "    #img.show() \n",
    "    #img.save(\"raw_image_no_ctf.jpg\")\n",
    "    \n",
    "    # Convert mask class values, now that we have ensured no overlaps, to factors of 50\n",
    "    mask[np.where(mask == 104)] = 100\n",
    "    mask[np.where(mask == 153)] = 150\n",
    "    mask[np.where(mask == 202)] = 200\n",
    "    mask[np.where(mask == 251)] = 250\n",
    "    \n",
    "    msk = Image.fromarray(np.uint8(mask), mode='L')\n",
    "    #msk.show() \n",
    "    #msk.save(\"mask.jpg\")\n",
    "    return img, msk, num_particles\n",
    "        \n",
    "# fin_image, fin_mask, num_p = createSingleImage(projections, class_masks)\n",
    "# fin_image.show() \n",
    "# fin_image.save(\"test_raw_image_no_ctf.png\")\n",
    "# fin_mask.show() \n",
    "# fin_mask.save(\"test_mask.png\")\n",
    "# print(\"The number of particles in the image: \" + str(num_p))"
   ]
  },
  {
   "cell_type": "markdown",
   "id": "c67e5c1e",
   "metadata": {},
   "source": [
    "Apply CTF + Noise to Image Function and Save to Database Folder"
   ]
  },
  {
   "cell_type": "code",
   "execution_count": 6,
   "id": "ef0c979a",
   "metadata": {},
   "outputs": [],
   "source": [
    "def apply_ctf_and_noise(raw_img, msk):\n",
    "    postfix = datetime.datetime.now().strftime(\"%d_%b_%Y-H%H_M%M_S%S.%f\") # Get date/time for file naming\n",
    "    time.sleep(.001)\n",
    "    \n",
    "    # Save raw_image to .png format\n",
    "    raw_img_file = os.path.join(\"raw_images\", \"raw_image_\" + postfix + \".png\")\n",
    "    raw_img.save(raw_img_file)\n",
    "    \n",
    "    # Apply CTF + Noise Command String\n",
    "    fin_img_file = os.path.join(\"Dataset\", \"images\", \"image_\" + postfix + \".jpg\")\n",
    "    ctf_noise_str = \"~/Desktop/eman2/programs/e2proc2d.py ./\" + raw_img_file + \" ./\" + fin_img_file + \" --process=math.simulatectf:ampcont=10:defocus=0.25:noiseamp=2\"\n",
    "    %run $ctf_noise_str\n",
    "    \n",
    "    # Save mask using same postfix as image\n",
    "    msk_file = os.path.join(\"Dataset\", \"masks\", \"mask_\" + postfix + \".jpg\")\n",
    "    msk.save(msk_file)"
   ]
  },
  {
   "cell_type": "markdown",
   "id": "6aea8f70",
   "metadata": {},
   "source": [
    "Make X New Samples for Dataset"
   ]
  },
  {
   "cell_type": "code",
   "execution_count": 7,
   "id": "ae56a395",
   "metadata": {},
   "outputs": [
    {
     "name": "stdout",
     "output_type": "stream",
     "text": [
      "1 images, processing 0-0 stepping by 1\n"
     ]
    }
   ],
   "source": [
    "# Num of new samples\n",
    "num_samples = 1\n",
    "\n",
    "for i in range(num_samples):\n",
    "    fin_raw_image, fin_mask, _ = createSingleImage(projections, class_masks)\n",
    "    apply_ctf_and_noise(fin_raw_image, fin_mask)"
   ]
  },
  {
   "cell_type": "markdown",
   "id": "0f63b3e5",
   "metadata": {},
   "source": [
    "Tests"
   ]
  },
  {
   "cell_type": "code",
   "execution_count": null,
   "id": "e28c0dac",
   "metadata": {},
   "outputs": [],
   "source": []
  }
 ],
 "metadata": {
  "kernelspec": {
   "display_name": "eman2",
   "language": "python",
   "name": "eman2"
  },
  "language_info": {
   "codemirror_mode": {
    "name": "ipython",
    "version": 3
   },
   "file_extension": ".py",
   "mimetype": "text/x-python",
   "name": "python",
   "nbconvert_exporter": "python",
   "pygments_lexer": "ipython3",
   "version": "3.9.13"
  }
 },
 "nbformat": 4,
 "nbformat_minor": 5
}
